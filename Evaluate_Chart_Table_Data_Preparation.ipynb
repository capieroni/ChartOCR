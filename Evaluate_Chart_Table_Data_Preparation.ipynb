{
 "cells": [
  {
   "cell_type": "code",
   "execution_count": 1,
   "id": "81112198",
   "metadata": {},
   "outputs": [],
   "source": [
    "from IPython.display import Image, display\n",
    "import os\n",
    "import csv\n"
   ]
  },
  {
   "cell_type": "code",
   "execution_count": 8,
   "id": "7c95d858",
   "metadata": {},
   "outputs": [],
   "source": [
    "data_root = \"/home/mingyang/semafor/project/Chart-to-text/statista_dataset\"\n",
    "img_path = f\"{data_root}/dataset/imgs\"\n",
    "table_path = f\"{data_root}/dataset/data\"\n",
    "metadata_path = f\"{data_root}/dataset/metadata.csv\"\n",
    "#Load the split information\n",
    "test_split_path = f\"{data_root}/dataset/dataset_split/test_index_mapping.csv\""
   ]
  },
  {
   "cell_type": "code",
   "execution_count": 31,
   "id": "a197713f",
   "metadata": {},
   "outputs": [],
   "source": [
    "def split_info_reader(split_file):\n",
    "    split_ids = []\n",
    "    with open(split_file, \"r\") as f:\n",
    "        csv_reader = csv.reader(f)\n",
    "        for i,row in enumerate(csv_reader):\n",
    "            if i > 0:\n",
    "                current_id = row[0].split(\".\")[0]\n",
    "                split_ids.append(current_id)\n",
    "    return split_ids\n",
    "\n",
    "def obtain_chart_label_data(metadata_path, data_chart_type, train_val_ids, chart_complexity=\"simple\"):\n",
    "    with open(metadata_path, \"r\") as f:\n",
    "        csv_reader = csv.reader(f)\n",
    "        train_val_count =0\n",
    "        for i, row in enumerate(csv_reader):\n",
    "            if i == 0:\n",
    "                print(\"column names are: {}\".format(row))\n",
    "            else:\n",
    "                current_id = row[0]\n",
    "#                 if chart_complexity == \"simple\":\n",
    "#                     current_id = \"-\".join([\"two_col\",current_id])\n",
    "#                 else:\n",
    "#                     current_id = \"-\".join([\"multi_col\", current_id])\n",
    "                current_chart_type = row[6]\n",
    "                current_img_path = row[3]    \n",
    "                \n",
    "                if train_val_ids.get(current_id, None) is not None:\n",
    "                    current_split = \"train\"\n",
    "                else:\n",
    "                    current_split = \"test\"\n",
    "                data_chart_type[current_id] = {\"label\": current_chart_type, \"img_path\": current_img_path, \"split\": current_split}\n",
    "\n",
    "test_ids = split_info_reader(test_split_path)\n",
    "test_ids = {x:True for x in test_ids}\n"
   ]
  },
  {
   "cell_type": "code",
   "execution_count": 32,
   "id": "632e5841",
   "metadata": {},
   "outputs": [
    {
     "name": "stdout",
     "output_type": "stream",
     "text": [
      "column names are: ['\\ufeffid', 'title', 'dataPath', 'imgPath', 'caption', 'first_caption', 'chartType', 'release date', 'Region', 'survey time period', 'xAxis', 'yAxis', 'URL']\n"
     ]
    }
   ],
   "source": [
    "data_chart_type = {}\n",
    "current_split = \"test\"\n",
    "obtain_chart_label_data(metadata_path, data_chart_type, test_ids, \"simple\")"
   ]
  },
  {
   "cell_type": "code",
   "execution_count": 35,
   "id": "0b4f5213",
   "metadata": {},
   "outputs": [],
   "source": [
    "import shutil\n",
    "\n",
    "current_chart_type = \"pie\"\n",
    "tgt_folder = f\"/home/mingyang/semafor/data/statista_data/{current_split}/{current_chart_type}\"\n",
    "sample_size = 100\n",
    "i = 0\n",
    "for k,v in data_chart_type.items():\n",
    "    if v['label'] == current_chart_type:\n",
    "        c_id = k\n",
    "        c_img_path = f\"{img_path}/{c_id}.png\"\n",
    "        c_table_path = f\"{table_path}/{c_id}.csv\"\n",
    "        #Copy the file to tgt_folder\n",
    "        shutil.copy2(c_img_path, f\"{tgt_folder}/imgs\")\n",
    "        shutil.copy2(c_table_path, f\"{tgt_folder}/tables\")\n",
    "\n",
    "        if i > sample_size:\n",
    "            break\n",
    "        i += 1\n",
    "\n",
    "    "
   ]
  },
  {
   "cell_type": "code",
   "execution_count": null,
   "id": "9760a5c8",
   "metadata": {},
   "outputs": [],
   "source": []
  }
 ],
 "metadata": {
  "kernelspec": {
   "display_name": "DeepRule",
   "language": "python",
   "name": "deeprule"
  },
  "language_info": {
   "codemirror_mode": {
    "name": "ipython",
    "version": 3
   },
   "file_extension": ".py",
   "mimetype": "text/x-python",
   "name": "python",
   "nbconvert_exporter": "python",
   "pygments_lexer": "ipython3",
   "version": "3.6.5"
  }
 },
 "nbformat": 4,
 "nbformat_minor": 5
}
