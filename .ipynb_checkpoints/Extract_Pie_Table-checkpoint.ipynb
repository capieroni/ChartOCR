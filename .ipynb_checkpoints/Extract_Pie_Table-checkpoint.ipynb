{
 "cells": [
  {
   "cell_type": "code",
   "execution_count": 5,
   "id": "46a82f28",
   "metadata": {},
   "outputs": [
    {
     "name": "stdout",
     "output_type": "stream",
     "text": [
      "[2022/09/15 15:04:59] ppocr DEBUG: Namespace(alpha=1.0, benchmark=False, beta=1.0, cls_batch_num=6, cls_image_shape='3, 48, 192', cls_model_dir='/home/mingyang/.paddleocr/whl/cls/ch_ppocr_mobile_v2.0_cls_infer', cls_thresh=0.9, cpu_threads=10, crop_res_save_dir='./output', det=True, det_algorithm='DB', det_db_box_thresh=0.6, det_db_score_mode='fast', det_db_thresh=0.3, det_db_unclip_ratio=1.5, det_east_cover_thresh=0.1, det_east_nms_thresh=0.2, det_east_score_thresh=0.8, det_fce_box_type='poly', det_limit_side_len=960, det_limit_type='max', det_model_dir='/home/mingyang/.paddleocr/whl/det/en/en_PP-OCRv3_det_infer', det_pse_box_thresh=0.85, det_pse_box_type='quad', det_pse_min_area=16, det_pse_scale=1, det_pse_thresh=0, det_sast_nms_thresh=0.2, det_sast_polygon=False, det_sast_score_thresh=0.5, draw_img_save_dir='./inference_results', drop_score=0.5, e2e_algorithm='PGNet', e2e_char_dict_path='./ppocr/utils/ic15_dict.txt', e2e_limit_side_len=768, e2e_limit_type='max', e2e_model_dir=None, e2e_pgnet_mode='fast', e2e_pgnet_score_thresh=0.5, e2e_pgnet_valid_set='totaltext', enable_mkldnn=True, fourier_degree=5, gpu_mem=500, help='==SUPPRESS==', image_dir=None, image_orientation=False, ir_optim=True, kie_algorithm='LayoutXLM', label_list=['0', '180'], lang='en', layout=True, layout_dict_path=None, layout_model_dir=None, layout_nms_threshold=0.5, layout_score_threshold=0.5, max_batch_size=10, max_text_length=25, merge_no_span_structure=True, min_subgraph_size=15, mode='structure', ocr=True, ocr_order_method=None, ocr_version='PP-OCRv3', output='./output', precision='fp32', process_id=0, rec=True, rec_algorithm='SVTR_LCNet', rec_batch_num=6, rec_char_dict_path='/dvmm-filer2/users/mingyang/miniconda3/envs/DeepRule/lib/python3.6/site-packages/paddleocr/ppocr/utils/en_dict.txt', rec_image_shape='3, 48, 320', rec_model_dir='/home/mingyang/.paddleocr/whl/rec/en/en_PP-OCRv3_rec_infer', recovery=False, save_crop_res=False, save_log_path='./log_output/', save_pdf=False, scales=[8, 16, 32], ser_dict_path='../train_data/XFUND/class_list_xfun.txt', ser_model_dir=None, shape_info_filename=None, show_log=True, sr_batch_num=1, sr_image_shape='3, 32, 128', sr_model_dir=None, structure_version='PP-Structurev2', table=True, table_algorithm='TableAttn', table_char_dict_path=None, table_max_len=488, table_model_dir=None, total_process_num=1, type='ocr', use_angle_cls=True, use_dilation=False, use_gpu=False, use_mp=False, use_onnx=False, use_pdserving=False, use_space_char=True, use_tensorrt=False, use_xpu=False, vis_font_path='./doc/fonts/simfang.ttf', warmup=False)\n"
     ]
    }
   ],
   "source": [
    "import os\n",
    "import json\n",
    "\n",
    "from IPython.display import Image, display\n",
    "from paddleocr import PaddleOCR,draw_ocr\n",
    "from tqdm import tqdm\n",
    "ocr = PaddleOCR(use_angle_cls=True, lang='en', use_gpu=False, ocr_version=\"PP-OCRv3\", enable_mkldnn=True) # need to run only once to download and load model into memory"
   ]
  },
  {
   "cell_type": "markdown",
   "id": "0d06ca56",
   "metadata": {},
   "source": [
    "## Pie Table Extraction\n",
    "In this section, we develop code to extract the data table from the Pie Image. \n",
    "### Load the Dataset"
   ]
  },
  {
   "cell_type": "code",
   "execution_count": 7,
   "id": "feabaf57",
   "metadata": {},
   "outputs": [],
   "source": [
    "data_path = '/dvmm-filer2/projects/mingyang/semafor/chart_table/data/pie/annotations'\n",
    "test_data_path = '/'.join([data_path, \"instancesPie(1008)_test2019.json\"])\n",
    "image_path = '/dvmm-filer2/projects/mingyang/semafor/chart_table/data/pie/images/test2019'\n",
    "\n",
    "with open(test_data_path, 'r') as f:\n",
    "    test_annotation = json.load(f)\n",
    "    "
   ]
  },
  {
   "cell_type": "code",
   "execution_count": 8,
   "id": "284217cb",
   "metadata": {},
   "outputs": [
    {
     "name": "stdout",
     "output_type": "stream",
     "text": [
      "dict_keys(['licenses', 'images', 'annotations', 'categories'])\n"
     ]
    }
   ],
   "source": [
    "print(test_annotation.keys())"
   ]
  },
  {
   "cell_type": "code",
   "execution_count": 4,
   "id": "8bcde079",
   "metadata": {},
   "outputs": [
    {
     "name": "stdout",
     "output_type": "stream",
     "text": [
      "<class 'list'>\n",
      "<class 'list'>\n",
      "<class 'list'>\n",
      "1923\n",
      "10922\n"
     ]
    }
   ],
   "source": [
    "print(type(test_annotation['images']))\n",
    "print(type(test_annotation['annotations']))\n",
    "print(type(test_annotation['categories']))\n",
    "\n",
    "print(len(test_annotation['images']))\n",
    "print(len(test_annotation['annotations']))"
   ]
  },
  {
   "cell_type": "code",
   "execution_count": 6,
   "id": "87362453",
   "metadata": {},
   "outputs": [
    {
     "name": "stdout",
     "output_type": "stream",
     "text": [
      "{'file_name': 'f447ffede2ef85e73a191f8c1ed3f9df_c3RhdGxpbmtzLm9lY2Rjb2RlLm9yZwk5Mi4yNDMuMjMuMTM3.XLS-0-0.png', 'height': 273, 'width': 331, 'id': 73075}\n",
      "{'image_id': 73075, 'category_id': 0, 'bbox': [191.0, 32.0, 285.0, 184.0, 191.0, 137.0], 'area': 11225.039931680858, 'id': 422950}\n",
      "{'supercategory': 'Series', 'id': 0, 'name': 'Series'}\n"
     ]
    }
   ],
   "source": [
    "print(test_annotation['images'][0])\n",
    "print(test_annotation['annotations'][0])\n",
    "print(test_annotation['categories'][0])"
   ]
  },
  {
   "cell_type": "code",
   "execution_count": 18,
   "id": "e9fc528f",
   "metadata": {},
   "outputs": [
    {
     "data": {
      "image/png": "[encoded data removed]",
      "text/plain": [
       "<IPython.core.display.Image object>"
      ]
     },
     "metadata": {},
     "output_type": "display_data"
    },
    {
     "name": "stdout",
     "output_type": "stream",
     "text": [
      "[{'image_id': 73098, 'category_id': 0, 'bbox': [223.0, 72.0, 282.0, 93.0, 223.0, 166.0], 'area': 2998.636718089023, 'id': 423055}, {'image_id': 73098, 'category_id': 0, 'bbox': [282.0, 93.0, 310.0, 131.0, 223.0, 166.0], 'area': 2238.2467652550986, 'id': 423056}, {'image_id': 73098, 'category_id': 0, 'bbox': [310.0, 131.0, 247.0, 257.0, 223.0, 166.0], 'area': 7481.409707989635, 'id': 423057}, {'image_id': 73098, 'category_id': 0, 'bbox': [247.0, 257.0, 139.0, 208.0, 223.0, 166.0], 'area': 6032.321607554896, 'id': 423058}, {'image_id': 73098, 'category_id': 0, 'bbox': [139.0, 208.0, 129.0, 162.0, 223.0, 166.0], 'area': 2236.277667256931, 'id': 423059}, {'image_id': 73098, 'category_id': 0, 'bbox': [129.0, 162.0, 177.0, 84.0, 223.0, 166.0], 'area': 4498.358238070001, 'id': 423060}, {'image_id': 73098, 'category_id': 0, 'bbox': [177.0, 84.0, 207.0, 73.0, 223.0, 166.0], 'area': 1512.109813297827, 'id': 423061}, {'image_id': 73098, 'category_id': 0, 'bbox': [207.0, 73.0, 223.0, 72.0, 223.0, 166.0], 'area': 755.6490411549033, 'id': 423062}]\n"
     ]
    }
   ],
   "source": [
    "#Line Annotation\n",
    "#image_info = [x['id']: {'file_name':x['file_name'], 'height':x['height'], 'width':x['width']} for x in test_annotation['images']]\n",
    "#good sample: [21, 22, 23]\n",
    "sample_info = test_annotation['images'][24]\n",
    "sample_id = sample_info['id']\n",
    "#Find all the annotations:\n",
    "\n",
    "#Display the image\n",
    "sample_img_path = '/'.join([image_path, sample_info['file_name']])\n",
    "display(Image(filename=sample_img_path))\n",
    "\n",
    "#Map Annotations to Image ID\n",
    "AnnotationMap = {}\n",
    "for x in test_annotation['annotations']:\n",
    "    img_id = x['image_id']\n",
    "    AnnotationMap[img_id] = AnnotationMap.get(img_id, []) + [x]\n",
    "    \n",
    "sample_annotation = AnnotationMap[sample_id]\n",
    "print(sample_annotation)\n"
   ]
  },
  {
   "cell_type": "markdown",
   "id": "25d3f114",
   "metadata": {},
   "source": [
    "### Detect Text Elements of the Image\n",
    "Extract the Text Elements from Pie Image. \n",
    "\n",
    "1. **Extract Legend**\n",
    "    - Disregard the Numerical Values\n",
    "    - Disregard the bounding box that is not Vertically or Horizontally aligned\n",
    "2. **Extract Title**\n",
    "    - Detected Text that is closest to the Top. "
   ]
  },
  {
   "cell_type": "code",
   "execution_count": 10,
   "id": "dded3892",
   "metadata": {},
   "outputs": [],
   "source": [
    "#Get the OCR of this image\n",
    "ocr_dir = \"/dvmm-filer2/projects/mingyang/semafor/chart_table/data/pie/ocr_results/test2019/{}.json\".format(sample_id)\n",
    "with open(ocr_dir, \"r\") as f:\n",
    "    ocr_texts = json.load(f)\n"
   ]
  },
  {
   "cell_type": "code",
   "execution_count": 11,
   "id": "95e965fb",
   "metadata": {},
   "outputs": [
    {
     "name": "stdout",
     "output_type": "stream",
     "text": [
      "[[[[60.0, 17.0], [338.0, 18.0], [338.0, 37.0], [60.0, 36.0]], ['2017 Take up in your school', 0.9862290024757385]], [[[261.0, 104.0], [364.0, 105.0], [364.0, 119.0], [261.0, 118.0]], [' Taking Higher Level', 0.9647728800773621]], [[[196.0, 135.0], [224.0, 135.0], [224.0, 149.0], [196.0, 149.0]], ['57%', 0.9677383303642273]], [[[263.0, 129.0], [374.0, 129.0], [374.0, 141.0], [263.0, 141.0]], [' Taking Ordinary Level', 0.9591813683509827]]]\n"
     ]
    }
   ],
   "source": [
    "print(ocr_texts)"
   ]
  },
  {
   "cell_type": "code",
   "execution_count": 12,
   "id": "ea413ab9",
   "metadata": {},
   "outputs": [
    {
     "name": "stdout",
     "output_type": "stream",
     "text": [
      "[[[[261.0, 104.0], [364.0, 105.0], [364.0, 119.0], [261.0, 118.0]], [' Taking Higher Level', 0.9647728800773621]], [[[263.0, 129.0], [374.0, 129.0], [374.0, 141.0], [263.0, 141.0]], [' Taking Ordinary Level', 0.9591813683509827]]]\n"
     ]
    }
   ],
   "source": [
    "import re\n",
    "def hv_alignment(a, b):\n",
    "    #compare the bounding box a and b to check if they are horizontal or vertically aligned\n",
    "    align_thred = 5\n",
    "    align_diff = [abs(a[0][0]-b[0][0]), abs(a[0][1]-b[0][1]), abs(a[2][0]-b[1][0]), abs(a[2][1]-b[2][1])]\n",
    "    if min(align_diff) < align_thred:\n",
    "        return True\n",
    "    else:\n",
    "        return False\n",
    "\n",
    "\n",
    "#Extract Legend\n",
    "def extract_legend(ocr_texts):\n",
    "    numerical_pattern = \"(\\d+(\\.\\d+)?%)\"\n",
    "\n",
    "    #Step 1, Get rid of Numerical Value\n",
    "    legend_candidates = []\n",
    "    for candidate in ocr_texts:\n",
    "        candidate_text = candidate[1][0]\n",
    "        if not re.search(numerical_pattern, candidate_text):\n",
    "            legend_candidates.append(candidate)\n",
    "\n",
    "\n",
    "    #Step 2, Group Text based on their Vertical or Horizontal Alignment.\n",
    "    align_map = {}\n",
    "    for i_a,c_a in enumerate(legend_candidates):\n",
    "        align_map[i_a] = []\n",
    "        i_b = i_a+1\n",
    "        for c_b in legend_candidates[i_a+1:]:\n",
    "            if hv_alignment(c_a[0],c_b[0]):\n",
    "                align_map[i_a].append(i_b)\n",
    "            i_b +=1\n",
    "    \n",
    "    legend_groups = []\n",
    "    legend_group = []\n",
    "\n",
    "    for k,v in align_map.items():\n",
    "        if k in legend_group:\n",
    "            continue\n",
    "        if v:\n",
    "            legend_group += v + [k]\n",
    "            for x in v:\n",
    "                legend_group += align_map[x]\n",
    "            legend_group = list(set(legend_group))\n",
    "            legend_groups.append(legend_group)\n",
    "            legend_group = []\n",
    "    if len(legend_groups) == 0:\n",
    "        return []\n",
    "    #Get the final legends\n",
    "    if len(legend_groups) == 1 and len(legend_groups[0]) > 0:\n",
    "        return [legend_candidates[x] for x in legend_groups[0]]\n",
    "    else:\n",
    "        #Pick the one with the maximum elements or maybe the group that has the mapped elements as the gt sectors\n",
    "        legend_groups.sort(key=len)\n",
    "        return [legend_candidates[x] for x in legend_groups[-1]]\n",
    "\n",
    "detected_legends = extract_legend(ocr_texts)\n",
    "print(detected_legends)"
   ]
  },
  {
   "cell_type": "markdown",
   "id": "26b24090",
   "metadata": {},
   "source": [
    "### Read Data Values\n",
    "In this step, we compute the angles of the sector to estimate the pie area. "
   ]
  },
  {
   "cell_type": "code",
   "execution_count": 13,
   "id": "2d1b08a2",
   "metadata": {},
   "outputs": [
    {
     "name": "stdout",
     "output_type": "stream",
     "text": [
      "0.5627880118634262\n",
      "0.43721198813657375\n"
     ]
    }
   ],
   "source": [
    "import math\n",
    "\n",
    "def determinant(v1, v2):\n",
    "  return v1[0]*v2[1] - v1[1]*v2[0]\n",
    "\n",
    "def dotproduct(v1, v2):\n",
    "  return sum((a*b) for a, b in zip(v1, v2))\n",
    "\n",
    "def length(v):\n",
    "  return math.sqrt(dotproduct(v, v))\n",
    "\n",
    "def angle(v1, v2):\n",
    "  return math.atan2(determinant(v1,v2), dotproduct(v1, v2))\n",
    "\n",
    "def compute_unit(p1,p2):\n",
    "    distance = [p1[0] - p2[0], -(p1[1] - p2[1])]\n",
    "    norm = math.sqrt(distance[0] ** 2 + distance[1] ** 2)\n",
    "    direction = [distance[0] / norm, distance[1] / norm]\n",
    "    return direction\n",
    "\n",
    "def compute_distance(p1,p2):\n",
    "    distance = (p1[0] - p2[0])**2 + (p1[1] - p2[1])**2\n",
    "    return distance\n",
    "    \n",
    "#def estimate_value(sample_annotation):\n",
    "angles = []\n",
    "for sector in sample_annotation:\n",
    "    sector_bbox = sector['bbox']\n",
    "    #print(sector_bbox)\n",
    "    assert len(sector_bbox) == 6\n",
    "    center = [sector_bbox[4],sector_bbox[5]]\n",
    "    sector_p1 = [sector_bbox[0],sector_bbox[1]]\n",
    "    sector_p2 = [sector_bbox[2],sector_bbox[3]]\n",
    "    \n",
    "   \n",
    "   \n",
    "    v1 = compute_unit(sector_p1, center)\n",
    "    v2 = compute_unit(sector_p2, center)\n",
    "\n",
    "    current_angle = angle(v2,v1)\n",
    "    #print(current_angle)\n",
    "    if current_angle < 0:\n",
    "        current_angle = 2*math.pi+current_angle\n",
    "    \n",
    "    value = current_angle/(2*math.pi)\n",
    "    sector['value'] = value\n",
    "    print(value)\n",
    "#print(sample_annotation)"
   ]
  },
  {
   "cell_type": "markdown",
   "id": "bfc927e4",
   "metadata": {},
   "source": [
    "### Map the Legend or the Column Text\n",
    "In this final step we will map the legend text or the other detected Text to each sector."
   ]
  },
  {
   "cell_type": "code",
   "execution_count": 15,
   "id": "5799560a",
   "metadata": {},
   "outputs": [
    {
     "data": {
      "image/png": "[encoded data removed]",
      "text/plain": [
       "<Figure size 432x288 with 1 Axes>"
      ]
     },
     "metadata": {
      "needs_background": "light"
     },
     "output_type": "display_data"
    },
    {
     "data": {
      "image/png": "[encoded data removed]",
      "text/plain": [
       "<Figure size 432x288 with 1 Axes>"
      ]
     },
     "metadata": {
      "needs_background": "light"
     },
     "output_type": "display_data"
    },
    {
     "data": {
      "image/png": "[encoded data removed]",
      "text/plain": [
       "<Figure size 432x288 with 1 Axes>"
      ]
     },
     "metadata": {
      "needs_background": "light"
     },
     "output_type": "display_data"
    },
    {
     "data": {
      "image/png": "[encoded data removed]",
      "text/plain": [
       "<Figure size 432x288 with 1 Axes>"
      ]
     },
     "metadata": {
      "needs_background": "light"
     },
     "output_type": "display_data"
    }
   ],
   "source": [
    "import cv2\n",
    "from matplotlib import pyplot as plt\n",
    "import numpy as np\n",
    "from sklearn.cluster import KMeans\n",
    "from collections import Counter\n",
    "\n",
    "def get_dominant_color(image, k=4, image_processing_size = None):\n",
    "    \"\"\"\n",
    "    takes an image as input\n",
    "    returns the dominant color of the image as a list\n",
    "    \n",
    "    dominant color is found by running k means on the \n",
    "    pixels & returning the centroid of the largest cluster\n",
    "\n",
    "    processing time is sped up by working with a smaller image; \n",
    "    this resizing can be done with the image_processing_size param \n",
    "    which takes a tuple of image dims as input\n",
    "\n",
    "    >>> get_dominant_color(my_image, k=4, image_processing_size = (25, 25))\n",
    "    [56.2423442, 34.0834233, 70.1234123]\n",
    "    \"\"\"\n",
    "    #resize image if new dims provided\n",
    "    if image_processing_size is not None:\n",
    "        image = cv2.resize(image, image_processing_size, \n",
    "                            interpolation = cv2.INTER_AREA)\n",
    "    \n",
    "    #reshape the image to be a list of pixels\n",
    "    image = image.reshape((image.shape[0] * image.shape[1], 3))\n",
    "\n",
    "    #cluster and assign labels to the pixels \n",
    "    clt = KMeans(n_clusters = k)\n",
    "    labels = clt.fit_predict(image)\n",
    "\n",
    "    #count labels to find most popular\n",
    "    label_counts = Counter(labels)\n",
    "    \n",
    "    \n",
    "    #subset out most popular centroid\n",
    "    #dominant_color = clt.cluster_centers_[label_counts.most_common(1)[0][0]]\n",
    "    dominant_colors = clt.cluster_centers_\n",
    "    return list(dominant_colors)\n",
    "\n",
    "#If Legend Exist and the Length Matched\n",
    "#if detected_legends and len(detected_legends) == len(sample_annotation):\n",
    "#Get the dominant Color for each Legends\n",
    "legends = {}\n",
    "sample_image = cv2.imread(sample_img_path)\n",
    "sample_image = cv2.cvtColor(sample_image, cv2.COLOR_BGR2RGB)\n",
    "for i, dl in enumerate(detected_legends):\n",
    "    legends[i] = {'bbox': dl[0], 'text': dl[1]}\n",
    "    start_point = (int(dl[0][0][0]), int(dl[0][0][1]))\n",
    "    end_point = (int(dl[0][2][0]), int(dl[0][2][1]))\n",
    "    \n",
    "    cropped_image = sample_image[start_point[1]:end_point[1], start_point[0]:end_point[0]]\n",
    "#     plt.imshow(cropped_image)\n",
    "#     print(cropped_image[5,3])\n",
    "#     dominant_colors = get_dominant_color(cropped_image, k=3)\n",
    "#     print(dominant_colors)\n",
    "    legends[i]['cropped_image'] = cropped_image\n",
    "\n",
    "\n",
    "#Find the Color for Each Sector, locate a center point. \n",
    "for sector in sample_annotation:\n",
    "    sector_bbox = sector['bbox']\n",
    "    #Compute the angle again\n",
    "    center = [int(sector_bbox[4]),int(sector_bbox[5])]\n",
    "    sector_p1 = [int(sector_bbox[0]),int(sector_bbox[1])]\n",
    "    sector_p2 = [int(sector_bbox[2]),int(sector_bbox[3])]\n",
    "   \n",
    "    v1 = compute_unit(sector_p1, center)\n",
    "    v2 = compute_unit(sector_p2, center)\n",
    "    \n",
    "   \n",
    "    current_angle = angle(v2,v1)\n",
    "    if current_angle < 0:\n",
    "        current_angle = 2*math.pi+current_angle\n",
    "    \n",
    "    \n",
    "    #rotate v2 counter-clock with for 1/2 current_angle to get the \n",
    "    rotated_v2_x = math.cos(0.5*current_angle)*v2[0] - math.sin(0.5*current_angle)*v2[1]\n",
    "    rotated_v2_y = math.sin(0.5*current_angle)*v2[0] + math.cos(0.5*current_angle)*v2[1]\n",
    "    \n",
    "    #print(rotated_v2_x**2 + rotated_v2_y**2)\n",
    "    radius = math.sqrt(compute_distance(sector_p1, center))\n",
    "    #Remember for Pixel, the y is increased from top to bottom. \n",
    "    pick_point = [int(center[0] + rotated_v2_x*0.5*radius), int(center[1] - rotated_v2_y*0.5*radius)]\n",
    "    \n",
    "    #Plot the pick-point\n",
    "    #Get the color of the pick_point\n",
    "    sample_image_hsv = cv2.cvtColor(sample_image, cv2.COLOR_RGB2HSV)\n",
    "    pick_point_color = sample_image_hsv[pick_point[1],pick_point[0]]\n",
    "    \n",
    "    \n",
    "    pp_color_min = np.array([max(0, pick_point_color[0]-5),max(50,pick_point_color[1]-10),max(50, pick_point_color[2]-10)], np.uint8)\n",
    "    pp_color_max = np.array([pick_point_color[0]+5,min(255, pick_point_color[1]+10),min(255, pick_point_color[2]+10)], np.uint8)\n",
    "    \n",
    "    sector['mapped_column_value'] = None\n",
    "    for k, cl in legends.items():\n",
    "        cl_image = cl[\"cropped_image\"]\n",
    "        cl_hsv_image = cv2.cvtColor(cl_image, cv2.COLOR_RGB2HSV)\n",
    "        frame_threshed = cv2.inRange(cl_hsv_image, pp_color_min, pp_color_max)\n",
    "        \n",
    "\n",
    "        #might satisty two saturation\n",
    "        \n",
    "        if np.count_nonzero(frame_threshed)/(frame_threshed.shape[0]*frame_threshed.shape[1]) > 0.01:\n",
    "            #Find a Map\n",
    "            sector['column_value'] = cl['text'][0]\n",
    "            plt.imshow(cl_image)\n",
    "            plt.show()\n",
    "            plt.imshow(frame_threshed)\n",
    "            plt.show()\n",
    "            break\n",
    "\n",
    "        \n",
    "        \n",
    "                             \n",
    "        \n",
    "\n",
    "                             \n",
    "    \n",
    "#plt.imshow('Binary',thresh_img)\n"
   ]
  },
  {
   "cell_type": "code",
   "execution_count": 16,
   "id": "6a26dcb9",
   "metadata": {},
   "outputs": [
    {
     "data": {
      "image/png": "[encoded data removed]",
      "text/plain": [
       "<IPython.core.display.Image object>"
      ]
     },
     "metadata": {},
     "output_type": "display_data"
    },
    {
     "name": "stdout",
     "output_type": "stream",
     "text": [
      " Taking Higher Level: 0.5627880118634262\n",
      " Taking Ordinary Level: 0.43721198813657375\n"
     ]
    }
   ],
   "source": [
    "display(Image(filename=sample_img_path))\n",
    "for result in sample_annotation:\n",
    "    print(f\"{result['column_value']}: {result['value']}\")"
   ]
  },
  {
   "cell_type": "code",
   "execution_count": null,
   "id": "525ea515",
   "metadata": {},
   "outputs": [],
   "source": []
  }
 ],
 "metadata": {
  "kernelspec": {
   "display_name": "DeepRule",
   "language": "python",
   "name": "deeprule"
  },
  "language_info": {
   "codemirror_mode": {
    "name": "ipython",
    "version": 3
   },
   "file_extension": ".py",
   "mimetype": "text/x-python",
   "name": "python",
   "nbconvert_exporter": "python",
   "pygments_lexer": "ipython3",
   "version": "3.6.5"
  }
 },
 "nbformat": 4,
 "nbformat_minor": 5
}
