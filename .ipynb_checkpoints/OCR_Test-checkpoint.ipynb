{
 "cells": [
  {
   "cell_type": "code",
   "execution_count": 2,
   "id": "c48bbbee",
   "metadata": {},
   "outputs": [
    {
     "name": "stdout",
     "output_type": "stream",
     "text": [
      "[2022/08/31 04:46:51] ppocr DEBUG: Namespace(alpha=1.0, benchmark=False, beta=1.0, cls_batch_num=6, cls_image_shape='3, 48, 192', cls_model_dir='/home/mingyang/.paddleocr/whl/cls/ch_ppocr_mobile_v2.0_cls_infer', cls_thresh=0.9, cpu_threads=10, crop_res_save_dir='./output', det=True, det_algorithm='DB', det_db_box_thresh=0.6, det_db_score_mode='fast', det_db_thresh=0.3, det_db_unclip_ratio=1.5, det_east_cover_thresh=0.1, det_east_nms_thresh=0.2, det_east_score_thresh=0.8, det_fce_box_type='poly', det_limit_side_len=960, det_limit_type='max', det_model_dir='/home/mingyang/.paddleocr/whl/det/en/en_PP-OCRv3_det_infer', det_pse_box_thresh=0.85, det_pse_box_type='quad', det_pse_min_area=16, det_pse_scale=1, det_pse_thresh=0, det_sast_nms_thresh=0.2, det_sast_polygon=False, det_sast_score_thresh=0.5, draw_img_save_dir='./inference_results', drop_score=0.5, e2e_algorithm='PGNet', e2e_char_dict_path='./ppocr/utils/ic15_dict.txt', e2e_limit_side_len=768, e2e_limit_type='max', e2e_model_dir=None, e2e_pgnet_mode='fast', e2e_pgnet_score_thresh=0.5, e2e_pgnet_valid_set='totaltext', enable_mkldnn=False, fourier_degree=5, gpu_mem=500, help='==SUPPRESS==', image_dir=None, image_orientation=False, ir_optim=True, kie_algorithm='LayoutXLM', label_list=['0', '180'], lang='en', layout=True, layout_dict_path=None, layout_model_dir=None, layout_nms_threshold=0.5, layout_score_threshold=0.5, max_batch_size=10, max_text_length=25, merge_no_span_structure=True, min_subgraph_size=15, mode='structure', ocr=True, ocr_order_method=None, ocr_version='PP-OCRv3', output='./output', precision='fp32', process_id=0, rec=True, rec_algorithm='SVTR_LCNet', rec_batch_num=6, rec_char_dict_path='/dvmm-filer2/users/mingyang/miniconda3/envs/DeepRule/lib/python3.6/site-packages/paddleocr/ppocr/utils/en_dict.txt', rec_image_shape='3, 48, 320', rec_model_dir='/home/mingyang/.paddleocr/whl/rec/en/en_PP-OCRv3_rec_infer', recovery=False, save_crop_res=False, save_log_path='./log_output/', save_pdf=False, scales=[8, 16, 32], ser_dict_path='../train_data/XFUND/class_list_xfun.txt', ser_model_dir=None, shape_info_filename=None, show_log=True, sr_batch_num=1, sr_image_shape='3, 32, 128', sr_model_dir=None, structure_version='PP-Structurev2', table=True, table_algorithm='TableAttn', table_char_dict_path=None, table_max_len=488, table_model_dir=None, total_process_num=1, type='ocr', use_angle_cls=True, use_dilation=False, use_gpu=False, use_mp=False, use_onnx=False, use_pdserving=False, use_space_char=True, use_tensorrt=False, use_xpu=False, vis_font_path='./doc/fonts/simfang.ttf', warmup=False)\n",
      "[2022/08/31 04:46:52] ppocr DEBUG: dt_boxes num : 21, elapse : 0.23610258102416992\n",
      "[2022/08/31 04:46:53] ppocr DEBUG: cls num  : 21, elapse : 0.20250988006591797\n",
      "[2022/08/31 04:46:55] ppocr DEBUG: rec_res num  : 21, elapse : 2.2857682704925537\n",
      "0\n",
      "[[[40.0, 10.0], [74.0, 10.0], [74.0, 25.0], [40.0, 25.0]], ('title', 0.9975600242614746)]\n",
      "1\n",
      "[[[21.0, 38.0], [29.0, 36.0], [33.0, 47.0], [24.0, 50.0]], ('7', 0.9971246123313904)]\n",
      "2\n",
      "[[[33.0, 30.0], [46.0, 30.0], [46.0, 266.0], [33.0, 266.0]], ('TTTTTTTTTTTTTTTTT!TTTT!TTTT!TTTTT', 0.7446149587631226)]\n",
      "3\n",
      "[[[22.0, 66.0], [33.0, 66.0], [33.0, 83.0], [22.0, 83.0]], ('6', 0.7028165459632874)]\n",
      "4\n",
      "[[[23.0, 91.0], [31.0, 91.0], [31.0, 114.0], [23.0, 114.0]], ('5', 0.8294800519943237)]\n",
      "5\n",
      "[[[5.0, 109.0], [22.0, 108.0], [25.0, 189.0], [7.0, 190.0]], ('yaxis_label', 0.9927375316619873)]\n",
      "6\n",
      "[[[23.0, 188.0], [31.0, 188.0], [31.0, 203.0], [23.0, 203.0]], ('2', 0.8243276476860046)]\n",
      "7\n",
      "[[[23.0, 220.0], [31.0, 220.0], [31.0, 233.0], [23.0, 233.0]], ('-', 0.5816280245780945)]\n",
      "8\n",
      "[[[66.0, 273.0], [80.0, 273.0], [80.0, 371.0], [66.0, 371.0]], ('Dark Periwinkle', 0.98147052526474)]\n",
      "9\n",
      "[[[124.0, 274.0], [142.0, 274.0], [142.0, 340.0], [124.0, 340.0]], ('Navy Blue', 0.9997644424438477)]\n",
      "10\n",
      "[[[187.0, 275.0], [201.0, 275.0], [201.0, 345.0], [187.0, 345.0]], ('Dark Violet', 0.9933663010597229)]\n",
      "11\n",
      "[[[247.0, 274.0], [262.0, 274.0], [262.0, 352.0], [247.0, 352.0]], ('Web Maroon', 0.9786521196365356)]\n",
      "12\n",
      "[[[305.0, 272.0], [322.0, 272.0], [324.0, 364.0], [307.0, 365.0]], ('Deep Sky Blue', 0.949368417263031)]\n",
      "13\n",
      "[[[368.0, 275.0], [384.0, 275.0], [384.0, 308.0], [368.0, 308.0]], ('Mint', 0.9984943866729736)]\n",
      "14\n",
      "[[[428.0, 274.0], [442.0, 274.0], [442.0, 333.0], [428.0, 333.0]], ('Dim Gray', 0.9996278285980225)]\n",
      "15\n",
      "[[[490.0, 273.0], [505.0, 274.0], [502.0, 311.0], [487.0, 310.0]], ('Slate', 0.9900282025337219)]\n",
      "16\n",
      "[[[547.0, 273.0], [564.0, 273.0], [564.0, 340.0], [547.0, 340.0]], ('Deep Pink', 0.998988151550293)]\n",
      "17\n",
      "[[[277.0, 382.0], [353.0, 382.0], [353.0, 397.0], [277.0, 397.0]], ('xaxis_label', 0.9664431214332581)]\n"
     ]
    }
   ],
   "source": [
    "from paddleocr import PaddleOCR,draw_ocr\n",
    "# Paddleocr supports Chinese, English, French, German, Korean and Japanese.\n",
    "# You can set the parameter `lang` as `ch`, `en`, `fr`, `german`, `korean`, `japan`\n",
    "# to switch the language model in order.\n",
    "ocr = PaddleOCR(use_angle_cls=True, lang='en', use_gpu=False) # need to run only once to download and load model into memory\n",
    "img_path = './OCR_temp.png'\n",
    "result = ocr.ocr(img_path, cls=True)\n",
    "for i, line in enumerate(result):\n",
    "    print(line)"
   ]
  },
  {
   "cell_type": "code",
   "execution_count": null,
   "id": "18658d18",
   "metadata": {},
   "outputs": [],
   "source": []
  }
 ],
 "metadata": {
  "kernelspec": {
   "display_name": "DeepRule",
   "language": "python",
   "name": "deeprule"
  },
  "language_info": {
   "codemirror_mode": {
    "name": "ipython",
    "version": 3
   },
   "file_extension": ".py",
   "mimetype": "text/x-python",
   "name": "python",
   "nbconvert_exporter": "python",
   "pygments_lexer": "ipython3",
   "version": "3.6.5"
  }
 },
 "nbformat": 4,
 "nbformat_minor": 5
}
