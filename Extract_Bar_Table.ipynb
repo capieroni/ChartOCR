{
 "cells": [
  {
   "cell_type": "code",
   "execution_count": 2,
   "id": "46a82f28",
   "metadata": {},
   "outputs": [
    {
     "name": "stdout",
     "output_type": "stream",
     "text": [
      "[2022/09/14 17:41:11] ppocr DEBUG: Namespace(alpha=1.0, benchmark=False, beta=1.0, cls_batch_num=6, cls_image_shape='3, 48, 192', cls_model_dir='/home/mingyang/.paddleocr/whl/cls/ch_ppocr_mobile_v2.0_cls_infer', cls_thresh=0.9, cpu_threads=10, crop_res_save_dir='./output', det=True, det_algorithm='DB', det_db_box_thresh=0.6, det_db_score_mode='fast', det_db_thresh=0.3, det_db_unclip_ratio=1.5, det_east_cover_thresh=0.1, det_east_nms_thresh=0.2, det_east_score_thresh=0.8, det_fce_box_type='poly', det_limit_side_len=960, det_limit_type='max', det_model_dir='/home/mingyang/.paddleocr/whl/det/en/en_PP-OCRv3_det_infer', det_pse_box_thresh=0.85, det_pse_box_type='quad', det_pse_min_area=16, det_pse_scale=1, det_pse_thresh=0, det_sast_nms_thresh=0.2, det_sast_polygon=False, det_sast_score_thresh=0.5, draw_img_save_dir='./inference_results', drop_score=0.5, e2e_algorithm='PGNet', e2e_char_dict_path='./ppocr/utils/ic15_dict.txt', e2e_limit_side_len=768, e2e_limit_type='max', e2e_model_dir=None, e2e_pgnet_mode='fast', e2e_pgnet_score_thresh=0.5, e2e_pgnet_valid_set='totaltext', enable_mkldnn=True, fourier_degree=5, gpu_mem=500, help='==SUPPRESS==', image_dir=None, image_orientation=False, ir_optim=True, kie_algorithm='LayoutXLM', label_list=['0', '180'], lang='en', layout=True, layout_dict_path=None, layout_model_dir=None, layout_nms_threshold=0.5, layout_score_threshold=0.5, max_batch_size=10, max_text_length=25, merge_no_span_structure=True, min_subgraph_size=15, mode='structure', ocr=True, ocr_order_method=None, ocr_version='PP-OCRv3', output='./output', precision='fp32', process_id=0, rec=True, rec_algorithm='SVTR_LCNet', rec_batch_num=6, rec_char_dict_path='/dvmm-filer2/users/mingyang/miniconda3/envs/DeepRule/lib/python3.6/site-packages/paddleocr/ppocr/utils/en_dict.txt', rec_image_shape='3, 48, 320', rec_model_dir='/home/mingyang/.paddleocr/whl/rec/en/en_PP-OCRv3_rec_infer', recovery=False, save_crop_res=False, save_log_path='./log_output/', save_pdf=False, scales=[8, 16, 32], ser_dict_path='../train_data/XFUND/class_list_xfun.txt', ser_model_dir=None, shape_info_filename=None, show_log=True, sr_batch_num=1, sr_image_shape='3, 32, 128', sr_model_dir=None, structure_version='PP-Structurev2', table=True, table_algorithm='TableAttn', table_char_dict_path=None, table_max_len=488, table_model_dir=None, total_process_num=1, type='ocr', use_angle_cls=True, use_dilation=False, use_gpu=False, use_mp=False, use_onnx=False, use_pdserving=False, use_space_char=True, use_tensorrt=False, use_xpu=False, vis_font_path='./doc/fonts/simfang.ttf', warmup=False)\n"
     ]
    }
   ],
   "source": [
    "import os\n",
    "import json\n",
    "\n",
    "from IPython.display import Image, display\n",
    "from paddleocr import PaddleOCR,draw_ocr\n",
    "from tqdm import tqdm\n",
    "ocr = PaddleOCR(use_angle_cls=True, lang='en', use_gpu=False, ocr_version=\"PP-OCRv3\", enable_mkldnn=True) # need to run only once to download and load model into memory"
   ]
  },
  {
   "cell_type": "markdown",
   "id": "0d06ca56",
   "metadata": {},
   "source": [
    "## Line Table Extraction\n",
    "In this section, we develop code to extract the data table from the Line Image. \n",
    "### Load the Dataset"
   ]
  },
  {
   "cell_type": "code",
   "execution_count": 5,
   "id": "feabaf57",
   "metadata": {},
   "outputs": [],
   "source": [
    "split = \"test2019\"\n",
    "data_path = '/dvmm-filer2/projects/mingyang/semafor/chart_table/data/bar/annotations'\n",
    "test_data_path = '/'.join([data_path, \"instancesBar(1031)_{}.json\".format(split)])\n",
    "image_path = '/dvmm-filer2/projects/mingyang/semafor/chart_table/data/bar/images/{}'.format(split)\n",
    "\n",
    "with open(test_data_path, 'r') as f:\n",
    "    test_annotation = json.load(f)\n",
    "    "
   ]
  },
  {
   "cell_type": "code",
   "execution_count": 6,
   "id": "284217cb",
   "metadata": {},
   "outputs": [
    {
     "name": "stdout",
     "output_type": "stream",
     "text": [
      "dict_keys(['licenses', 'images', 'annotations', 'categories'])\n"
     ]
    }
   ],
   "source": [
    "print(test_annotation.keys())"
   ]
  },
  {
   "cell_type": "code",
   "execution_count": 7,
   "id": "8bcde079",
   "metadata": {},
   "outputs": [
    {
     "name": "stdout",
     "output_type": "stream",
     "text": [
      "<class 'list'>\n",
      "<class 'list'>\n",
      "<class 'list'>\n",
      "6262\n",
      "143084\n"
     ]
    }
   ],
   "source": [
    "print(type(test_annotation['images']))\n",
    "print(type(test_annotation['annotations']))\n",
    "print(type(test_annotation['categories']))\n",
    "\n",
    "print(len(test_annotation['images']))\n",
    "print(len(test_annotation['annotations']))"
   ]
  },
  {
   "cell_type": "code",
   "execution_count": 8,
   "id": "87362453",
   "metadata": {},
   "outputs": [
    {
     "name": "stdout",
     "output_type": "stream",
     "text": [
      "{'file_name': '8763309d9af01abde80aed0d82bd4a97_d3d3LnZvbGtzZ2V6b25kaGVpZGVuem9yZy5pbmZvCTEzMS4yMjQuMjUwLjEyMA==.xls-7-1.png', 'height': 508, 'width': 548, 'id': 0}\n",
      "{'image_id': 0, 'category_id': 0, 'bbox': [65.0, 399.0, 4.0, 53.0], 'area': 212.0, 'id': 0}\n",
      "{'supercategory': 'Series', 'id': 0, 'name': 'Series'}\n"
     ]
    }
   ],
   "source": [
    "print(test_annotation['images'][0])\n",
    "print(test_annotation['annotations'][0])\n",
    "print(test_annotation['categories'][0])"
   ]
  },
  {
   "cell_type": "code",
   "execution_count": 10,
   "id": "544fd60c",
   "metadata": {},
   "outputs": [
    {
     "data": {
      "image/png": "[encoded data removed]",
      "text/plain": [
       "<IPython.core.display.Image object>"
      ]
     },
     "metadata": {},
     "output_type": "display_data"
    },
    {
     "name": "stdout",
     "output_type": "stream",
     "text": [
      "[{'image_id': 1, 'category_id': 0, 'bbox': [124.0, 337.0, 93.0, 234.0], 'area': 21762.0, 'id': 84}, {'image_id': 1, 'category_id': 0, 'bbox': [216.0, 437.0, 93.0, 134.0], 'area': 12462.0, 'id': 85}, {'image_id': 1, 'category_id': 0, 'bbox': [309.0, 560.0, 93.0, 11.0], 'area': 1023.0, 'id': 86}, {'image_id': 1, 'category_id': 0, 'bbox': [401.0, 515.0, 93.0, 56.0], 'area': 5208.0, 'id': 87}, {'image_id': 1, 'category_id': 0, 'bbox': [494.0, 549.0, 93.0, 22.0], 'area': 2046.0, 'id': 88}]\n"
     ]
    }
   ],
   "source": [
    "## Line Annotation\n",
    "#image_info = [x['id']: {'file_name':x['file_name'], 'height':x['height'], 'width':x['width']} for x in test_annotation['images']]\n",
    "#good sample: [28]\n",
    "sample_info = test_annotation['images'][1]\n",
    "sample_id = sample_info['id']\n",
    "#Find all the annotations:\n",
    "\n",
    "#Display the image\n",
    "sample_img_path = '/'.join([image_path, sample_info['file_name']])\n",
    "display(Image(filename=sample_img_path))\n",
    "\n",
    "#Map Annotations to Image ID\n",
    "AnnotationMap = {}\n",
    "for x in test_annotation['annotations']:\n",
    "    img_id = x['image_id']\n",
    "    AnnotationMap[img_id] = AnnotationMap.get(img_id, []) + [x]\n",
    "    \n",
    "sample_annotation = AnnotationMap[sample_id]\n",
    "print(sample_annotation)\n"
   ]
  },
  {
   "cell_type": "markdown",
   "id": "25d3f114",
   "metadata": {},
   "source": [
    "### Detect Text Elements of the Image\n",
    "Extract the Text Elements from Line Image. \n",
    "\n",
    "1. **Extract Legend**\n",
    "    - Disregard the Numerical Values\n",
    "    - Disregard the bounding box that is not Vertically or Horizontally aligned\n",
    "    \n",
    "2. **Extract X-labels**\n",
    "   - Filter the texts that is above the 1/2 of the height (assume the x-axies is at the bottom)\n",
    "   - Using sliding line in vertical direction and record the intersected bounding box. \n",
    "   - The maximum number of intersection is considered as the x-labels\n",
    "   \n",
    "3. **Extract Y-labels** \n",
    "   - Filter the texts that is above the 1/2 of the height (assume the y-axies is to the left side)\n",
    "   - Using sliding line in vertical direction and record the intersected bounding box. \n",
    "   - The maximum number of intersection is considered as the y-labels\n",
    "\n",
    "\n",
    "2. **Extract Title**\n",
    "    - Detected Text that is closest to the Top. "
   ]
  },
  {
   "cell_type": "code",
   "execution_count": 76,
   "id": "dded3892",
   "metadata": {},
   "outputs": [
    {
     "name": "stdout",
     "output_type": "stream",
     "text": [
      "[[[[112.0, 18.0], [319.0, 19.0], [319.0, 34.0], [112.0, 32.0]], ['SW and SPW Nearby Cash Prices', 0.9488018751144409]], [[[38.0, 57.0], [58.0, 57.0], [58.0, 69.0], [38.0, 69.0]], ['550', 0.9381256103515625]], [[[37.0, 83.0], [60.0, 83.0], [60.0, 99.0], [37.0, 99.0]], ['500', 0.9986287951469421]], [[[37.0, 111.0], [60.0, 111.0], [60.0, 126.0], [37.0, 126.0]], ['450', 0.999495267868042]], [[[7.0, 128.0], [22.0, 128.0], [19.0, 197.0], [5.0, 197.0]], ['$imetric ton', 0.9712057709693909]], [[[39.0, 139.0], [60.0, 139.0], [60.0, 153.0], [39.0, 153.0]], ['400', 0.9991295337677002]], [[[435.0, 145.0], [482.0, 145.0], [482.0, 156.0], [435.0, 156.0]], ['PNW SW', 0.9915946125984192]], [[[38.0, 167.0], [59.0, 167.0], [59.0, 181.0], [38.0, 181.0]], ['350', 0.9993664622306824]], [[[435.0, 169.0], [484.0, 169.0], [484.0, 180.0], [435.0, 180.0]], ['GuIfSRW', 0.914030134677887]], [[[38.0, 195.0], [59.0, 195.0], [59.0, 207.0], [38.0, 207.0]], ['300', 0.9998013973236084]], [[[37.0, 221.0], [60.0, 221.0], [60.0, 237.0], [37.0, 237.0]], ['250', 0.9999244809150696]], [[[38.0, 250.0], [59.0, 250.0], [59.0, 262.0], [38.0, 262.0]], ['200', 0.9998242259025574]], [[[36.0, 278.0], [59.0, 275.0], [61.0, 290.0], [37.0, 293.0]], ['150', 0.9984491467475891]], [[[48.0, 290.0], [86.0, 290.0], [86.0, 302.0], [48.0, 302.0]], ['Feb-08', 0.9863002896308899]], [[[102.0, 291.0], [139.0, 288.0], [140.0, 302.0], [103.0, 305.0]], ['Apr-06', 0.9421671032905579]], [[[158.0, 292.0], [196.0, 289.0], [197.0, 300.0], [159.0, 303.0]], ['Jun-06', 0.9620556235313416]], [[[213.0, 289.0], [252.0, 289.0], [252.0, 304.0], [213.0, 304.0]], ['Aug-08', 0.987493097782135]], [[[271.0, 289.0], [307.0, 289.0], [307.0, 304.0], [271.0, 304.0]], ['O ct-03', 0.9095916748046875]], [[[326.0, 290.0], [363.0, 290.0], [363.0, 302.0], [326.0, 302.0]], ['Dec-08', 0.952416181564331]]]\n"
     ]
    }
   ],
   "source": [
    "#Get the OCR of this image\n",
    "ocr_dir = \"/dvmm-filer2/projects/mingyang/semafor/chart_table/data/line/ocr_results/test2019/{}.json\".format(sample_id)\n",
    "with open(ocr_dir, \"r\") as f:\n",
    "    ocr_texts = json.load(f)\n",
    "\n",
    "print(ocr_texts)"
   ]
  },
  {
   "cell_type": "code",
   "execution_count": 77,
   "id": "ea413ab9",
   "metadata": {},
   "outputs": [
    {
     "name": "stdout",
     "output_type": "stream",
     "text": [
      "[[[[435.0, 145.0], [482.0, 145.0], [482.0, 156.0], [435.0, 156.0]], ['PNW SW', 0.9915946125984192]], [[[435.0, 169.0], [484.0, 169.0], [484.0, 180.0], [435.0, 180.0]], ['GuIfSRW', 0.914030134677887]]]\n",
      "[[[[426.0, 145.0], [482.0, 145.0], [482.0, 156.0], [426.0, 156.0]], ['PNW SW', 0.9915946125984192]], [[[426.0, 169.0], [484.0, 169.0], [484.0, 180.0], [426.0, 180.0]], ['GuIfSRW', 0.914030134677887]]]\n"
     ]
    }
   ],
   "source": [
    "import re\n",
    "\n",
    "def ocr_preprocessing(ocr_texts):\n",
    "    filtered_ocr_texts = []\n",
    "    thred = 0.8\n",
    "    for line in ocr_texts:\n",
    "        if line[1][1] > thred:\n",
    "            filtered_ocr_texts.append(line)\n",
    "    return filtered_ocr_texts\n",
    "\n",
    "def hv_alignment(a, b):\n",
    "    #compare the bounding box a and b to check if they are horizontal or vertically aligned\n",
    "    align_thred = 5\n",
    "    align_diff = [abs(a[0][0]-b[0][0]), abs(a[0][1]-b[0][1]), abs(a[2][0]-b[1][0]), abs(a[2][1]-b[2][1])]\n",
    "    if min(align_diff) < align_thred:\n",
    "        return True\n",
    "    else:\n",
    "        return False\n",
    "\n",
    "\n",
    "#Extract xlabels\n",
    "def extract_xlabels(ocr_texts, sample_info):\n",
    "    img_height = int(sample_info['height'])\n",
    "    #print(img_height)\n",
    "    x_label_candidates = []\n",
    "    \n",
    "    #Only consider the texts under the middle point. \n",
    "    starting_point = int(0.5*img_height)\n",
    "    #moving pace is the min of the bounding box size\n",
    "    step = int(min([x[0][2][1]-x[0][0][1] for x in ocr_texts]))\n",
    "    \n",
    "    intersected_list = []\n",
    "    for l_pos in range(starting_point, img_height, step):\n",
    "        #find the intersected texts\n",
    "        intersected_texts = [x for x in ocr_texts if x[0][0][1] < l_pos and x[0][2][1] > l_pos]\n",
    "        intersected_list.append(intersected_texts)\n",
    "    intersected_list = sorted(intersected_list, key=len)\n",
    "    x_label_candidates = intersected_list[-1]   \n",
    "        \n",
    "    return x_label_candidates\n",
    "\n",
    "#Extract ylabels\n",
    "def extract_ylabels(ocr_texts, sample_info):\n",
    "    img_width = int(sample_info['width'])\n",
    "    #print(img_height)\n",
    "    y_label_candidates = []\n",
    "    \n",
    "    #Only consider the texts under the middle point. \n",
    "    end_point = int(0.5*img_width)\n",
    "    #moving pace is the min of the bounding box width\n",
    "    step = int(min([x[0][2][0]-x[0][0][0] for x in ocr_texts]))\n",
    "    \n",
    "    intersected_list = []\n",
    "    for l_pos in range(0, end_point, step):\n",
    "        #find the intersected texts\n",
    "        intersected_texts = [x for x in ocr_texts if x[0][0][0] < l_pos and x[0][2][0] > l_pos]\n",
    "        intersected_list.append(intersected_texts)\n",
    "    intersected_list = sorted(intersected_list, key=len)\n",
    "    y_label_candidates = intersected_list[-1]  \n",
    "    #Get rid of y_labels that are not numbers\n",
    "    final_y_label_candidates = []\n",
    "    for y_label in y_label_candidates:\n",
    "        try:\n",
    "            y_label_text = y_label[1][0]\n",
    "            y_label_value = float(y_label[1][0])\n",
    "            final_y_label_candidates.append(y_label)\n",
    "        except:\n",
    "            continue\n",
    "        \n",
    "    return final_y_label_candidates\n",
    "def estimate_range(y_labels):\n",
    "    \"\"\"\n",
    "    Make sure the order of the value is following the order of the position. \n",
    "    \"\"\"\n",
    "    #sorted(intersected_list, key=len)(key=x[0][0][1])\n",
    "    y_labels.sort(key=lambda x: x[0][0][1])\n",
    "    \n",
    "    y_max = max([float(y[1][0]) for y in y_labels])\n",
    "    y_max_candidate = float(y_labels[0][1][0])\n",
    "    while y_max != y_max_candidate:\n",
    "        #pop the first item\n",
    "        del y_labels[0]\n",
    "        y_max = max([float(y[1][0]) for y in y_labels])\n",
    "        y_max_candidate = float(y_labels[0][1][0])\n",
    "    y_max_pos = 0.5*(y_labels[0][0][0][1]+y_labels[0][0][2][1])\n",
    "    \n",
    "    y_min = min([float(y[1][0]) for y in y_labels])\n",
    "    y_min_candidate = float(y_labels[-1][1][0])\n",
    "    while y_min != y_min_candidate:\n",
    "        #pop the first item\n",
    "        del y_labels[-1]\n",
    "        y_min = min([float(y[1][0]) for y in y_labels])\n",
    "        y_min_candidate = float(y_labels[-1][1][0])\n",
    "    y_min_pos = 0.5*(y_labels[-1][0][0][1]+y_labels[-1][0][2][1])\n",
    "    \n",
    "    #y_values = [float(y[1][0]) for y in y_labels]\n",
    "    y_scale = (y_max - y_min)/(0.5*(y_labels[-1][0][0][1]+y_labels[-1][0][2][1]) - 0.5*(y_labels[0][0][0][1]+y_labels[0][0][2][1]))\n",
    "    return y_max, y_min, y_scale, y_max_pos, y_min_pos\n",
    "\n",
    "#Extract Legend\n",
    "def extract_legend(ocr_texts):\n",
    "    numerical_pattern = \"(\\d+(\\.\\d+))\"\n",
    "\n",
    "    #Step 1, Get rid of Numerical Value\n",
    "    legend_candidates = []\n",
    "    for candidate in ocr_texts:\n",
    "        candidate_text = candidate[1][0]\n",
    "        if not re.search(numerical_pattern, candidate_text):\n",
    "            legend_candidates.append(candidate)\n",
    "\n",
    "    #print(legend_candidates)\n",
    "    #Step 2, Group Text based on their Vertical or Horizontal Alignment.\n",
    "    align_map = {}\n",
    "    for i_a,c_a in enumerate(legend_candidates):\n",
    "        align_map[i_a] = []\n",
    "        i_b = i_a+1\n",
    "        for c_b in legend_candidates[i_a+1:]:\n",
    "            if hv_alignment(c_a[0],c_b[0]):\n",
    "                align_map[i_a].append(i_b)\n",
    "            i_b +=1\n",
    "    \n",
    "    legend_groups = []\n",
    "    legend_group = []\n",
    "\n",
    "    for k,v in align_map.items():\n",
    "        if k in legend_group:\n",
    "            continue\n",
    "        if v:\n",
    "            legend_group += v + [k]\n",
    "            for x in v:\n",
    "                legend_group += align_map[x]\n",
    "            legend_group = list(set(legend_group))\n",
    "            legend_groups.append(legend_group)\n",
    "            legend_group = []\n",
    "    if len(legend_groups) == 0:\n",
    "        return []\n",
    "    #Get the final legends\n",
    "    if len(legend_groups) == 1 and len(legend_groups[0]) > 0:\n",
    "        return [legend_candidates[x] for x in legend_groups[0]]\n",
    "    else:\n",
    "        #Pick the one with the maximum elements or maybe the group that has the mapped elements as the gt sectors\n",
    "        legend_groups.sort(key=len)\n",
    "        return [legend_candidates[x] for x in legend_groups[-1]]\n",
    "\n",
    "def expand_legend_box(detected_legends):\n",
    "    #Assume the mark is to the left\n",
    "    for c_legend in detected_legends:\n",
    "        width = c_legend[0][2][0]-c_legend[0][0][0]\n",
    "        expand_width = int(0.2*width)\n",
    "        c_legend[0][0][0] -= expand_width\n",
    "        c_legend[0][3][0] -= expand_width\n",
    "        \n",
    "ocr_texts = ocr_preprocessing(ocr_texts)\n",
    "#Get the x__labels\n",
    "x_labels = extract_xlabels(ocr_texts, sample_info)\n",
    "\n",
    "#Get the y_labels\n",
    "#print(\"\\n\")\n",
    "y_labels = extract_ylabels(ocr_texts, sample_info)\n",
    "#print(y_labels)\n",
    "#Estimate the Data Range Value\n",
    "y_max, y_min, y_scale, y_max_pos, y_min_pos= estimate_range(y_labels)\n",
    "\n",
    "#Get the legends\n",
    "filtered_ocr_texts = []\n",
    "for c_ocr in ocr_texts:\n",
    "    if c_ocr in x_labels or c_ocr in y_labels:\n",
    "        continue\n",
    "    filtered_ocr_texts.append(c_ocr)\n",
    "\n",
    "detected_legends = extract_legend(filtered_ocr_texts)\n",
    "\n",
    "print(detected_legends)\n",
    "#Augment the length of detected_legends\n",
    "expand_legend_box(detected_legends)\n",
    "\n",
    "print(detected_legends)"
   ]
  },
  {
   "cell_type": "markdown",
   "id": "26b24090",
   "metadata": {},
   "source": [
    "### Read Data Values\n",
    "In this step, we compute the value of each point based on its locations compared tot he y_min"
   ]
  },
  {
   "cell_type": "code",
   "execution_count": 78,
   "id": "2d1b08a2",
   "metadata": {},
   "outputs": [],
   "source": [
    "import math\n",
    "\n",
    "# def determinant(v1, v2):\n",
    "#   return v1[0]*v2[1] - v1[1]*v2[0]\n",
    "\n",
    "# def dotproduct(v1, v2):\n",
    "#   return sum((a*b) for a, b in zip(v1, v2))\n",
    "\n",
    "# def length(v):\n",
    "#   return math.sqrt(dotproduct(v, v))\n",
    "\n",
    "# def angle(v1, v2):\n",
    "#   return math.atan2(determinant(v1,v2), dotproduct(v1, v2))\n",
    "\n",
    "def compute_unit(p1,p2):\n",
    "    distance = [p1[0] - p2[0], -(p1[1] - p2[1])]\n",
    "    norm = math.sqrt(distance[0] ** 2 + distance[1] ** 2)\n",
    "    direction = [distance[0] / norm, distance[1] / norm]\n",
    "    return direction\n",
    "\n",
    "def compute_distance(p1,p2):\n",
    "    distance = (p1[0] - p2[0])**2 + (p1[1] - p2[1])**2\n",
    "    return distance\n",
    "    \n",
    "\n",
    "for line in sample_annotation:\n",
    "    line_pts = [(line['bbox'][i],line['bbox'][i+1])for i in range(0,len(line['bbox']),2)]\n",
    "    line_values = [0]*len(line_pts)\n",
    "    for i,pt in enumerate(line_pts):\n",
    "        pt_value = y_scale*(y_min_pos - pt[1]) + y_min\n",
    "        line_values[i] = pt_value\n",
    "    line['values'] = line_values\n"
   ]
  },
  {
   "cell_type": "markdown",
   "id": "bfc927e4",
   "metadata": {},
   "source": [
    "### Map the Legend or the Column Text\n",
    "In this final step we will map the legend text or the other detected Text to each line."
   ]
  },
  {
   "cell_type": "code",
   "execution_count": 79,
   "id": "5799560a",
   "metadata": {},
   "outputs": [
    {
     "data": {
      "image/png": "[encoded data removed]",
      "text/plain": [
       "<Figure size 432x288 with 1 Axes>"
      ]
     },
     "metadata": {
      "needs_background": "light"
     },
     "output_type": "display_data"
    },
    {
     "data": {
      "image/png": "[encoded data removed]",
      "text/plain": [
       "<Figure size 432x288 with 1 Axes>"
      ]
     },
     "metadata": {
      "needs_background": "light"
     },
     "output_type": "display_data"
    },
    {
     "name": "stdout",
     "output_type": "stream",
     "text": [
      "[(387.0, 246.0), (380.0, 243.0), (376.0, 239.0), (370.0, 241.0), (361.0, 246.0), (355.0, 254.0), (348.0, 252.0), (335.0, 252.0), (329.0, 248.0), (322.0, 248.0), (316.0, 250.0), (310.0, 252.0), (303.0, 248.0), (297.0, 242.0), (291.0, 234.0), (284.0, 221.0), (278.0, 212.0), (271.0, 210.0), (265.0, 192.0), (258.0, 190.0), (252.0, 191.0), (246.0, 191.0), (239.0, 192.0), (233.0, 190.0), (227.0, 193.0), (220.0, 169.0), (214.0, 169.0), (206.0, 169.0), (201.0, 148.0), (194.0, 148.0), (188.0, 148.0), (182.0, 148.0), (175.0, 148.0), (169.0, 143.0), (162.0, 158.0), (156.0, 158.0), (150.0, 178.0), (143.0, 153.0), (137.0, 127.0), (130.0, 110.0), (124.0, 122.0), (118.0, 143.0), (110.0, 145.0), (105.0, 112.0), (98.0, 112.0), (92.0, 77.0), (86.0, 82.0), (79.0, 82.0), (73.0, 82.0), (66.0, 87.0)]\n",
      "[(387.0, 256.0), (380.0, 247.0), (376.0, 247.0), (370.0, 251.0), (361.0, 257.0), (355.0, 268.0), (348.0, 269.0), (335.0, 269.0), (329.0, 255.0), (322.0, 266.0), (316.0, 260.0), (310.0, 261.0), (303.0, 257.0), (297.0, 268.0), (291.0, 252.0), (284.0, 239.0), (278.0, 236.0), (271.0, 236.0), (265.0, 236.0), (258.0, 228.0), (252.0, 209.0), (246.0, 216.0), (239.0, 229.0), (233.0, 227.0), (227.0, 228.0), (220.0, 227.0), (214.0, 221.0), (206.0, 211.0), (201.0, 207.0), (194.0, 214.0), (188.0, 211.0), (182.0, 225.0), (175.0, 228.0), (169.0, 229.0), (162.0, 223.0), (156.0, 209.0), (150.0, 204.0), (143.0, 197.0), (137.0, 178.0), (130.0, 174.0), (124.0, 156.0), (118.0, 151.0), (110.0, 151.0), (105.0, 113.0), (98.0, 124.0), (92.0, 128.0), (86.0, 139.0), (79.0, 142.0), (73.0, 128.0), (66.0, 162.0)]\n"
     ]
    }
   ],
   "source": [
    "import cv2\n",
    "from matplotlib import pyplot as plt\n",
    "import numpy as np\n",
    "from sklearn.cluster import KMeans\n",
    "from collections import Counter\n",
    "\n",
    "def get_dominant_color(image, k=4, image_processing_size = None):\n",
    "    \"\"\"\n",
    "    takes an image as input\n",
    "    returns the dominant color of the image as a list\n",
    "    \n",
    "    dominant color is found by running k means on the \n",
    "    pixels & returning the centroid of the largest cluster\n",
    "\n",
    "    processing time is sped up by working with a smaller image; \n",
    "    this resizing can be done with the image_processing_size param \n",
    "    which takes a tuple of image dims as input\n",
    "\n",
    "    >>> get_dominant_color(my_image, k=4, image_processing_size = (25, 25))\n",
    "    [56.2423442, 34.0834233, 70.1234123]\n",
    "    \"\"\"\n",
    "    #resize image if new dims provided\n",
    "    if image_processing_size is not None:\n",
    "        image = cv2.resize(image, image_processing_size, \n",
    "                            interpolation = cv2.INTER_AREA)\n",
    "    \n",
    "    #reshape the image to be a list of pixels\n",
    "    image = image.reshape((image.shape[0] * image.shape[1], 3))\n",
    "\n",
    "    #cluster and assign labels to the pixels \n",
    "    clt = KMeans(n_clusters = k)\n",
    "    labels = clt.fit_predict(image)\n",
    "\n",
    "    #count labels to find most popular\n",
    "    label_counts = Counter(labels)\n",
    "    \n",
    "    \n",
    "    #subset out most popular centroid\n",
    "    #dominant_color = clt.cluster_centers_[label_counts.most_common(1)[0][0]]\n",
    "    dominant_colors = clt.cluster_centers_\n",
    "    return list(dominant_colors)\n",
    "\n",
    "#If Legend Exist and the Length Matched\n",
    "#if detected_legends and len(detected_legends) == len(sample_annotation):\n",
    "#Get the dominant Color for each Legends\n",
    "legends = {}\n",
    "sample_image = cv2.imread(sample_img_path)\n",
    "sample_image = cv2.cvtColor(sample_image, cv2.COLOR_BGR2RGB)\n",
    "for i, dl in enumerate(detected_legends):\n",
    "    legends[i] = {'bbox': dl[0], 'text': dl[1]}\n",
    "    start_point = (int(dl[0][0][0]), int(dl[0][0][1]))\n",
    "    end_point = (int(dl[0][2][0]), int(dl[0][2][1]))\n",
    "    \n",
    "    cropped_image = sample_image[start_point[1]:end_point[1], start_point[0]:end_point[0]]\n",
    "    plt.imshow(cropped_image)\n",
    "    plt.show()\n",
    "#     print(cropped_image[5,3])\n",
    "#     dominant_colors = get_dominant_color(cropped_image, k=3)\n",
    "#     print(dominant_colors)\n",
    "    legends[i]['cropped_image'] = cropped_image\n",
    "\n",
    "\n",
    "#Find the Color for Each Line, locate a center point, assume the legend will be there\n",
    "for line in sample_annotation:\n",
    "    line_pts = [(line['bbox'][i],line['bbox'][i+1])for i in range(0,len(line['bbox']),2)]\n",
    "    line['column_value'] = [\"None\"]*len(line_pts)\n",
    "    pick_point = line_pts[int(0.5*len(line_pts))]\n",
    "    pick_point = (int(pick_point[0]), int(pick_point[1]))\n",
    "    \n",
    "    sample_image_hsv = cv2.cvtColor(sample_image, cv2.COLOR_RGB2HSV)\n",
    "    pick_point_color = sample_image_hsv[pick_point[1],pick_point[0]]\n",
    "    \n",
    "    pp_color_min = np.array([max(0, pick_point_color[0]-5),max(50,pick_point_color[1]-10),max(50, pick_point_color[2]-10)], np.uint8)\n",
    "    pp_color_max = np.array([pick_point_color[0]+5,min(255, pick_point_color[1]+10),min(255, pick_point_color[2]+10)], np.uint8)\n",
    "    \n",
    "    line['row_value'] = \"None\"\n",
    "    for k, cl in legends.items():\n",
    "        cl_image = cl[\"cropped_image\"]\n",
    "        cl_hsv_image = cv2.cvtColor(cl_image, cv2.COLOR_RGB2HSV)\n",
    "        frame_threshed = cv2.inRange(cl_hsv_image, pp_color_min, pp_color_max)\n",
    "        \n",
    "\n",
    "        #might satisty two saturation\n",
    "        \n",
    "        if np.count_nonzero(frame_threshed)/(frame_threshed.shape[0]*frame_threshed.shape[1]) > 0.01:\n",
    "            #Find a Map\n",
    "            line['row_value'] = cl['text'][0]\n",
    "            break\n",
    "     #Map the line column values \n",
    "    print(line_pts)\n",
    "    for i, pt in enumerate(line_pts):\n",
    "        pt_x = pt[0]\n",
    "        thred = 5 #maybe set it to the length of the bbox\n",
    "        for x_label in x_labels:\n",
    "            x_label_text = x_label[1][0]\n",
    "            c_x = 0.5*(x_label[0][0][0]+x_label[0][2][0])\n",
    "            if abs(c_x-pt_x) < thred:\n",
    "                line['column_value'][i] = x_label_text\n",
    "\n",
    "\n",
    "        \n",
    "        \n",
    "                             \n",
    "        \n",
    "\n",
    "                             \n",
    "    \n",
    "#plt.imshow('Binary',thresh_img)\n",
    "#print(sample_annotation)"
   ]
  },
  {
   "cell_type": "code",
   "execution_count": 81,
   "id": "6a26dcb9",
   "metadata": {},
   "outputs": [
    {
     "data": {
      "image/png": "[encoded data removed]",
      "text/plain": [
       "<IPython.core.display.Image object>"
      ]
     },
     "metadata": {},
     "output_type": "display_data"
    },
    {
     "name": "stdout",
     "output_type": "stream",
     "text": [
      "(None,PNW SW): 218.7782805429864\n",
      "(None,PNW SW): 224.2081447963801\n",
      "(None,PNW SW): 231.44796380090497\n",
      "(None,PNW SW): 227.82805429864254\n",
      "(None,PNW SW): 218.7782805429864\n",
      "(None,PNW SW): 204.29864253393666\n",
      "(Dec-08,PNW SW): 207.9185520361991\n",
      "(None,PNW SW): 207.9185520361991\n",
      "(None,PNW SW): 215.15837104072398\n",
      "(None,PNW SW): 215.15837104072398\n",
      "(None,PNW SW): 211.53846153846155\n",
      "(None,PNW SW): 207.9185520361991\n",
      "(None,PNW SW): 215.15837104072398\n",
      "(None,PNW SW): 226.01809954751133\n",
      "(O ct-03,PNW SW): 240.4977375565611\n",
      "(None,PNW SW): 264.02714932126696\n",
      "(None,PNW SW): 280.31674208144796\n",
      "(None,PNW SW): 283.9366515837104\n",
      "(None,PNW SW): 316.5158371040724\n",
      "(None,PNW SW): 320.1357466063348\n",
      "(None,PNW SW): 318.32579185520365\n",
      "(None,PNW SW): 318.32579185520365\n",
      "(None,PNW SW): 316.5158371040724\n",
      "(Aug-08,PNW SW): 320.1357466063348\n",
      "(None,PNW SW): 314.7058823529412\n",
      "(None,PNW SW): 358.1447963800905\n",
      "(None,PNW SW): 358.1447963800905\n",
      "(None,PNW SW): 358.1447963800905\n",
      "(None,PNW SW): 396.1538461538462\n",
      "(None,PNW SW): 396.1538461538462\n",
      "(None,PNW SW): 396.1538461538462\n",
      "(Jun-06,PNW SW): 396.1538461538462\n",
      "(Jun-06,PNW SW): 396.1538461538462\n",
      "(None,PNW SW): 405.20361990950227\n",
      "(None,PNW SW): 378.0542986425339\n",
      "(None,PNW SW): 378.0542986425339\n",
      "(None,PNW SW): 341.8552036199095\n",
      "(None,PNW SW): 387.10407239819006\n",
      "(None,PNW SW): 434.1628959276018\n",
      "(None,PNW SW): 464.9321266968326\n",
      "(Apr-06,PNW SW): 443.2126696832579\n",
      "(Apr-06,PNW SW): 405.20361990950227\n",
      "(None,PNW SW): 401.5837104072398\n",
      "(None,PNW SW): 461.3122171945701\n",
      "(None,PNW SW): 461.3122171945701\n",
      "(None,PNW SW): 524.6606334841629\n",
      "(None,PNW SW): 515.6108597285067\n",
      "(None,PNW SW): 515.6108597285067\n",
      "(None,PNW SW): 515.6108597285067\n",
      "(Feb-08,PNW SW): 506.56108597285066\n",
      "(None,GuIfSRW): 200.6787330316742\n",
      "(None,GuIfSRW): 216.9683257918552\n",
      "(None,GuIfSRW): 216.9683257918552\n",
      "(None,GuIfSRW): 209.72850678733033\n",
      "(None,GuIfSRW): 198.86877828054298\n",
      "(None,GuIfSRW): 178.95927601809956\n",
      "(Dec-08,GuIfSRW): 177.14932126696831\n",
      "(None,GuIfSRW): 177.14932126696831\n",
      "(None,GuIfSRW): 202.4886877828054\n",
      "(None,GuIfSRW): 182.579185520362\n",
      "(None,GuIfSRW): 193.43891402714934\n",
      "(None,GuIfSRW): 191.6289592760181\n",
      "(None,GuIfSRW): 198.86877828054298\n",
      "(None,GuIfSRW): 178.95927601809956\n",
      "(O ct-03,GuIfSRW): 207.9185520361991\n",
      "(None,GuIfSRW): 231.44796380090497\n",
      "(None,GuIfSRW): 236.87782805429865\n",
      "(None,GuIfSRW): 236.87782805429865\n",
      "(None,GuIfSRW): 236.87782805429865\n",
      "(None,GuIfSRW): 251.3574660633484\n",
      "(None,GuIfSRW): 285.74660633484166\n",
      "(None,GuIfSRW): 273.0769230769231\n",
      "(None,GuIfSRW): 249.54751131221718\n",
      "(Aug-08,GuIfSRW): 253.16742081447964\n",
      "(None,GuIfSRW): 251.3574660633484\n",
      "(None,GuIfSRW): 253.16742081447964\n",
      "(None,GuIfSRW): 264.02714932126696\n",
      "(None,GuIfSRW): 282.1266968325792\n",
      "(None,GuIfSRW): 289.3665158371041\n",
      "(None,GuIfSRW): 276.6968325791855\n",
      "(None,GuIfSRW): 282.1266968325792\n",
      "(Jun-06,GuIfSRW): 256.7873303167421\n",
      "(Jun-06,GuIfSRW): 251.3574660633484\n",
      "(None,GuIfSRW): 249.54751131221718\n",
      "(None,GuIfSRW): 260.40723981900453\n",
      "(None,GuIfSRW): 285.74660633484166\n",
      "(None,GuIfSRW): 294.79638009049773\n",
      "(None,GuIfSRW): 307.4660633484163\n",
      "(None,GuIfSRW): 341.8552036199095\n",
      "(None,GuIfSRW): 349.09502262443436\n",
      "(Apr-06,GuIfSRW): 381.67420814479635\n",
      "(Apr-06,GuIfSRW): 390.7239819004525\n",
      "(None,GuIfSRW): 390.7239819004525\n",
      "(None,GuIfSRW): 459.5022624434389\n",
      "(None,GuIfSRW): 439.59276018099547\n",
      "(None,GuIfSRW): 432.3529411764706\n",
      "(None,GuIfSRW): 412.4434389140271\n",
      "(None,GuIfSRW): 407.0135746606335\n",
      "(None,GuIfSRW): 432.3529411764706\n",
      "(Feb-08,GuIfSRW): 370.81447963800906\n"
     ]
    }
   ],
   "source": [
    "display(Image(filename=sample_img_path))\n",
    "for result in sample_annotation:\n",
    "    for c, v in zip(result['column_value'], result['values']):\n",
    "        print(f\"({c},{result['row_value']}): {v}\")"
   ]
  },
  {
   "cell_type": "code",
   "execution_count": null,
   "id": "525ea515",
   "metadata": {},
   "outputs": [],
   "source": []
  }
 ],
 "metadata": {
  "kernelspec": {
   "display_name": "DeepRule",
   "language": "python",
   "name": "deeprule"
  },
  "language_info": {
   "codemirror_mode": {
    "name": "ipython",
    "version": 3
   },
   "file_extension": ".py",
   "mimetype": "text/x-python",
   "name": "python",
   "nbconvert_exporter": "python",
   "pygments_lexer": "ipython3",
   "version": "3.6.5"
  }
 },
 "nbformat": 4,
 "nbformat_minor": 5
}
